{
 "cells": [
  {
   "cell_type": "markdown",
   "metadata": {
    "toc": true
   },
   "source": [
    "<h1>Table of Contents<span class=\"tocSkip\"></span></h1>\n",
    "<div class=\"toc\"><ul class=\"toc-item\"><li><span><a href=\"#Make-Coarse-Grained--model\" data-toc-modified-id=\"Make-Coarse-Grained--model-1\"><span class=\"toc-item-num\">1&nbsp;&nbsp;</span>Make Coarse-Grained  model</a></span><ul class=\"toc-item\"><li><span><a href=\"#Parses-atomistic-pdb\" data-toc-modified-id=\"Parses-atomistic-pdb-1.1\"><span class=\"toc-item-num\">1.1&nbsp;&nbsp;</span>Parses atomistic pdb</a></span></li><li><span><a href=\"#Adds-missing-residues\" data-toc-modified-id=\"Adds-missing-residues-1.2\"><span class=\"toc-item-num\">1.2&nbsp;&nbsp;</span>Adds missing residues</a></span></li><li><span><a href=\"#Converts-fixed-pdb-to-table\" data-toc-modified-id=\"Converts-fixed-pdb-to-table-1.3\"><span class=\"toc-item-num\">1.3&nbsp;&nbsp;</span>Converts fixed pdb to table</a></span></li><li><span><a href=\"#Coarse-Grain-AWSEM\" data-toc-modified-id=\"Coarse-Grain-AWSEM-1.4\"><span class=\"toc-item-num\">1.4&nbsp;&nbsp;</span>Coarse Grain AWSEM</a></span></li><li><span><a href=\"#Merges-AWSEM-and-3SPN2-models\" data-toc-modified-id=\"Merges-AWSEM-and-3SPN2-models-1.5\"><span class=\"toc-item-num\">1.5&nbsp;&nbsp;</span>Merges AWSEM and 3SPN2 models</a></span></li><li><span><a href=\"#Get-the-sequence-of-the-protein\" data-toc-modified-id=\"Get-the-sequence-of-the-protein-1.6\"><span class=\"toc-item-num\">1.6&nbsp;&nbsp;</span>Get the sequence of the protein</a></span></li><li><span><a href=\"#Write-the-merged-PDB\" data-toc-modified-id=\"Write-the-merged-PDB-1.7\"><span class=\"toc-item-num\">1.7&nbsp;&nbsp;</span>Write the merged PDB</a></span></li><li><span><a href=\"#Create-the-system\" data-toc-modified-id=\"Create-the-system-1.8\"><span class=\"toc-item-num\">1.8&nbsp;&nbsp;</span>Create the system</a></span></li><li><span><a href=\"#Add-open3SPN2-forcefield\" data-toc-modified-id=\"Add-open3SPN2-forcefield-1.9\"><span class=\"toc-item-num\">1.9&nbsp;&nbsp;</span>Add open3SPN2 forcefield</a></span></li><li><span><a href=\"#Add-AWSEM-forcefield\" data-toc-modified-id=\"Add-AWSEM-forcefield-1.10\"><span class=\"toc-item-num\">1.10&nbsp;&nbsp;</span>Add AWSEM forcefield</a></span></li></ul></li></ul></div>"
   ]
  },
  {
   "cell_type": "markdown",
   "metadata": {},
   "source": [
    "## Make Coarse-Grained  model"
   ]
  },
  {
   "cell_type": "markdown",
   "metadata": {},
   "source": [
    "### Parses atomistic pdb"
   ]
  },
  {
   "cell_type": "code",
   "execution_count": 1,
   "metadata": {},
   "outputs": [],
   "source": [
    "import pandas\n",
    "import pdbfixer\n",
    "import simtk.openmm.app\n",
    "#Reads pdb file to a table\n",
    "def parsePDB(pdb_file):\n",
    "    \"\"\"Parses a pdb file to a table\"\"\"\n",
    "    def pdb_line(line):\n",
    "        return dict(recname    = str(line[0:6]).strip(),\n",
    "                    serial     = int(line[6:11]),\n",
    "                    name       = str(line[12:16]).strip(),\n",
    "                    altLoc     = str(line[16:17]),\n",
    "                    resname    = str(line[17:20]).strip(),\n",
    "                    chainID    = str(line[21:22]),\n",
    "                    resSeq     = int(line[22:26]),\n",
    "                    iCode      = str(line[26:27]),\n",
    "                    x          = float(line[30:38]),\n",
    "                    y          = float(line[38:46]),\n",
    "                    z          = float(line[46:54]),\n",
    "                    occupancy  = float(line[54:60]),\n",
    "                    tempFactor = float(line[60:66]),\n",
    "                    element    = str(line[76:78]),\n",
    "                    charge     = str(line[78:80]))\n",
    "    with open(pdb_file,'r') as pdb:\n",
    "        lines=[]\n",
    "        for line in pdb:\n",
    "            if len(line)>6 and line[:6] in ['ATOM  ','HETATM']:\n",
    "                lines+=[pdb_line(line)]\n",
    "    pdb_atoms=pandas.DataFrame(lines)\n",
    "    pdb_atoms=pdb_atoms[['recname','serial','name','altLoc',\n",
    "                         'resname','chainID','resSeq','iCode',\n",
    "                         'x','y','z','occupancy','tempFactor',\n",
    "                         'element','charge']]\n",
    "    return pdb_atoms\n",
    "temp=parsePDB('1svc.pdb')"
   ]
  },
  {
   "cell_type": "markdown",
   "metadata": {},
   "source": [
    "### Adds missing residues"
   ]
  },
  {
   "cell_type": "code",
   "execution_count": 2,
   "metadata": {},
   "outputs": [],
   "source": [
    "pdb_file='1svc.pdb'\n",
    "#Make coarse_grained atoms\n",
    "import pdbfixer\n",
    "def fix_pdb(pdb_file):\n",
    "    \"\"\"Fixes a pdb file (adds missing atoms)\"\"\"\n",
    "    fixer = pdbfixer.PDBFixer(filename=pdb_file,)\n",
    "    fixer.findMissingResidues()\n",
    "    chains = list(fixer.topology.chains())\n",
    "    keys = fixer.missingResidues.keys()\n",
    "    for key in list(keys):\n",
    "        chain_tmp = chains[key[0]]\n",
    "        if key[1] == 0 or key[1] == len(list(chain_tmp.residues())):\n",
    "            del fixer.missingResidues[key]\n",
    "\n",
    "    fixer.findNonstandardResidues()\n",
    "    fixer.replaceNonstandardResidues()\n",
    "    fixer.removeHeterogens(keepWater=False)\n",
    "    fixer.findMissingAtoms()\n",
    "    fixer.addMissingAtoms()\n",
    "    fixer.addMissingHydrogens(7.0)\n",
    "    return fixer\n",
    "pdb=fix_pdb('1svc.pdb')"
   ]
  },
  {
   "cell_type": "markdown",
   "metadata": {},
   "source": [
    "### Converts fixed pdb to table"
   ]
  },
  {
   "cell_type": "code",
   "execution_count": 3,
   "metadata": {},
   "outputs": [],
   "source": [
    "def pdb2table(pdb):\n",
    "    \"\"\" Parses a pdb in the openawsem format and \n",
    "    outputs a table that contains all the information \n",
    "    on a pdb file \"\"\"\n",
    "    cols=['recname','serial','name','altLoc',\n",
    "          'resname','chainID','resSeq','iCode',\n",
    "          'x','y','z','occupancy','tempFactor',\n",
    "          'element','charge']\n",
    "    data = []\n",
    "    for atom,pos in zip(pdb.topology.atoms(),pdb.positions):\n",
    "        residue=atom.residue\n",
    "        chain=residue.chain\n",
    "        pos=pos.value_in_unit(simtk.unit.angstrom)\n",
    "        data += [dict(zip(cols,['ATOM', int(atom.id), atom.name, '',\n",
    "                                residue.name, chain.id, int(residue.id),'',\n",
    "                                pos[0], pos[1], pos[2], 0, 0,\n",
    "                                atom.element.symbol, '']))]\n",
    "    atom_list = pandas.DataFrame(data)\n",
    "    atom_list = atom_list[cols]\n",
    "    atom_list.index = atom_list['serial']\n",
    "    return atom_list\n",
    "pdb_table=pdb2table(pdb)\n"
   ]
  },
  {
   "cell_type": "markdown",
   "metadata": {},
   "source": [
    "### Coarse Grain AWSEM"
   ]
  },
  {
   "cell_type": "code",
   "execution_count": 4,
   "metadata": {},
   "outputs": [],
   "source": [
    "def AWSEMCoarseGrained(pdb_table):\n",
    "    \"\"\" Selects AWSEM atoms from a pdb table and returns a table containing only the coarse-grained atoms for AWSEM \"\"\"\n",
    "    protein_residues = ['ALA', 'ARG', 'ASN', 'ASP', 'CYS',\n",
    "                        'GLN', 'GLU', 'GLY', 'HIS', 'ILE',\n",
    "                        'LEU', 'LYS', 'MET', 'PHE', 'PRO',\n",
    "                        'SER', 'THR', 'TRP', 'TYR', 'VAL']\n",
    "    awsem_atoms = [\"N\", \"H\", \"CA\", \"C\", \"O\", \"CB\"]\n",
    "\n",
    "    #Select coarse grained atoms\n",
    "    selection=pdb_table[pdb_table.resname.isin(protein_residues) & pdb_table.name.isin(awsem_atoms)].copy()\n",
    "\n",
    "    #Remove virtual atoms at the end or begining of the chain\n",
    "    drop_list=[]\n",
    "    for chain in selection.chainID.unique():\n",
    "        sel=selection[selection.chainID==chain]\n",
    "        drop_list+=list(sel[(sel.resSeq == sel.resSeq.min()) & sel['name'].isin(['N','H'])].index)\n",
    "        drop_list+=list(sel[(sel.resSeq == sel.resSeq.max()) & sel['name'].isin(['C'])].index)\n",
    "    selection=selection.drop(drop_list)\n",
    "\n",
    "    #Replace resnames\n",
    "    selection['real_resname']=selection.resname.copy()\n",
    "    resname = selection.resname.copy()\n",
    "    resname[:] = 'NGP'\n",
    "    resname[selection.resname=='PRO']='IPR'\n",
    "    resname[selection.resname=='GLY']='IGL'\n",
    "    selection.resname=resname\n",
    "    \n",
    "    #CB element is B\n",
    "    selection.loc[selection['name']=='CB','element']='B'\n",
    "    \n",
    "    #Reorder atoms\n",
    "    selection.name=pandas.Categorical(selection.name,awsem_atoms)\n",
    "    selection.sort_values(['chainID','resSeq','name'])\n",
    "\n",
    "    #Prepare virtual sites\n",
    "    for c,chain in selection.groupby('chainID'):\n",
    "        pos_im = 'First'\n",
    "        for i,residue in chain.groupby('resSeq'):\n",
    "            idx=dict(zip(residue.name,residue.index))\n",
    "            pos=dict(zip(residue.name,[residue.loc[i,['x','y','z']] for i in residue.index]))\n",
    "            if pos_im != 'First':\n",
    "                if 'N' in idx.keys():\n",
    "                    selection.loc[idx['N'],['x','y','z']]=0.48318 * pos_im['CA'] + 0.70328*pos['CA'] - 0.18643 *pos_im['O']\n",
    "                if 'C' in idx.keys():\n",
    "                    selection.loc[idx['C'],['x','y','z']]=0.44365 * pos_im['CA'] + 0.23520*pos['CA'] + 0.32115 *pos_im['O']\n",
    "                if 'H' in idx.keys():\n",
    "                    selection.loc[idx['H'],['x','y','z']]=0.84100 * pos_im['CA'] + 0.89296*pos['CA'] - 0.73389 *pos_im['O']\n",
    "            pos_im=pos.copy()\n",
    "    #Renumber\n",
    "    selection['serial']=range(len(selection))\n",
    "    \n",
    "    return selection\n",
    "awsem_atoms=AWSEMCoarseGrained(pdb_table)\n",
    "#awsem_atoms"
   ]
  },
  {
   "cell_type": "code",
   "execution_count": 5,
   "metadata": {},
   "outputs": [],
   "source": [
    "def ff3SPN2CoarseGrained(pdb_table):\n",
    "    \"\"\" Selects DNA atoms from a pdb table and returns a table containing only the coarse-grained atoms for 3SPN2\"\"\"\n",
    "    masses = {\"H\":1.00794, \"C\":12.0107, \"N\":14.0067, \"O\":15.9994, \"P\":30.973762,}\n",
    "    CG = {\"O5\\'\":'P', \"C5\\'\":'S', \"C4\\'\":'S', \"O4\\'\":'S', \"C3\\'\":'S', \"O3\\'\":'P', \n",
    "          \"C2\\'\":'S', \"C1\\'\":'S', \"O5*\":'P', \"C5*\":'S', \"C4*\":'S', \"O4*\":'S', \n",
    "          \"C3*\":'S', \"O3*\":'P', \"C2*\":'S', \"C1*\":'S', \"N1\":'B', \"C2\":'B', \"O2\":'B', \n",
    "          \"N2\":'B', \"N3\":'B', \"C4\":'B', \"N4\":'B', \"C5\":'B', \"C6\":'B', \"N9\":'B', \n",
    "          \"C8\":'B', \"O6\":'B', \"N7\":'B', \"N6\":'B', \"O4\":'B', \"C7\":'B', \"P\":'P', \n",
    "          \"OP1\":'P', \"OP2\":'P', \"O1P\":'P', \"O2P\":'P', \"OP3\":'P', \"HO5'\":'P', \n",
    "          \"H5'\":'S', \"H5''\":'S', \"H4'\":'S', \"H3'\":'S', \"H2'\":'S', \"H2''\":'S', \n",
    "          \"H1'\":'S', \"H8\":'B', \"H61\":'B', \"H62\":'B','H2':'B', 'H1':'B', 'H21':'B', \n",
    "          'H22':'B', 'H3':'B', 'H71':'B', 'H72':'B', 'H73':'B', 'H6':'B', 'H41':'B', \n",
    "          'H42':'B', 'H5':'B', \"HO3'\":'P'}\n",
    "    cols=['recname','serial','name','altLoc',\n",
    "          'resname','chainID','resSeq','iCode',\n",
    "          'x','y','z','occupancy','tempFactor',\n",
    "          'element','charge']\n",
    "    temp=pdb_table.copy()\n",
    "    \n",
    "    #Select DNA residues\n",
    "    temp=temp[temp['resname'].isin(['DA','DT','DG','DC'])]\n",
    "    \n",
    "    #Groupd the atoms by sugar, phosphate or base\n",
    "    temp['group']=temp.name.replace(CG)\n",
    "    temp=temp[temp['group'].isin(['P','S','B'])]\n",
    "    \n",
    "    #Calculate center of mass\n",
    "    temp['mass']=temp.element.replace(masses).astype(float)\n",
    "    temp[['x','y','z']]=(temp[['x','y','z']].T*temp['mass']).T[['x','y','z']]\n",
    "    temp=temp[temp['element']!='H'] #Exclude hydrogens\n",
    "    Coarse=temp.groupby(['chainID','resSeq','resname','group']).sum().reset_index()\n",
    "    Coarse[['x','y','z']]=(Coarse[['x','y','z']].T/Coarse['mass']).T[['x','y','z']]\n",
    "    \n",
    "    #Set pdb columns\n",
    "    Coarse['recname']='ATOM'\n",
    "    Coarse['name']=Coarse['group']\n",
    "    Coarse['altLoc']=''\n",
    "    Coarse['iCode']=''\n",
    "    Coarse['charge']=''\n",
    "    #Change name of base to real base\n",
    "    mask=(Coarse.name=='B')\n",
    "    Coarse.loc[mask,'name']=Coarse[mask].resname.str[-1] #takes last letter from the residue name\n",
    "    #Set element (depends on base)\n",
    "    Coarse['element']=Coarse['name'].replace({'P':'P','S':'H','A':'N','T':'S','G':'C','C':'O'})\n",
    "    #Remove P from the beggining\n",
    "    drop_list=[]\n",
    "    for chain in Coarse.chainID.unique():\n",
    "        sel=Coarse[Coarse.chainID==chain]\n",
    "        drop_list+=list(sel[(sel.resSeq == sel.resSeq.min()) & sel['name'].isin(['P'])].index)\n",
    "    Coarse=Coarse.drop(drop_list)\n",
    "    #Renumber\n",
    "    Coarse['serial']=range(len(Coarse))\n",
    "    return Coarse[cols]\n",
    "dna_atoms=ff3SPN2CoarseGrained(pdb_table)"
   ]
  },
  {
   "cell_type": "markdown",
   "metadata": {},
   "source": [
    "### Merges AWSEM and 3SPN2 models"
   ]
  },
  {
   "cell_type": "code",
   "execution_count": 6,
   "metadata": {},
   "outputs": [
    {
     "data": {
      "text/html": [
       "<div>\n",
       "<style scoped>\n",
       "    .dataframe tbody tr th:only-of-type {\n",
       "        vertical-align: middle;\n",
       "    }\n",
       "\n",
       "    .dataframe tbody tr th {\n",
       "        vertical-align: top;\n",
       "    }\n",
       "\n",
       "    .dataframe thead th {\n",
       "        text-align: right;\n",
       "    }\n",
       "</style>\n",
       "<table border=\"1\" class=\"dataframe\">\n",
       "  <thead>\n",
       "    <tr style=\"text-align: right;\">\n",
       "      <th></th>\n",
       "      <th>recname</th>\n",
       "      <th>serial</th>\n",
       "      <th>name</th>\n",
       "      <th>altLoc</th>\n",
       "      <th>resname</th>\n",
       "      <th>chainID</th>\n",
       "      <th>resSeq</th>\n",
       "      <th>iCode</th>\n",
       "      <th>x</th>\n",
       "      <th>y</th>\n",
       "      <th>z</th>\n",
       "      <th>occupancy</th>\n",
       "      <th>tempFactor</th>\n",
       "      <th>element</th>\n",
       "      <th>charge</th>\n",
       "      <th>real_resname</th>\n",
       "    </tr>\n",
       "  </thead>\n",
       "  <tbody>\n",
       "    <tr>\n",
       "      <th>3747</th>\n",
       "      <td>ATOM</td>\n",
       "      <td>3747</td>\n",
       "      <td>P</td>\n",
       "      <td></td>\n",
       "      <td>DG</td>\n",
       "      <td>D</td>\n",
       "      <td>18</td>\n",
       "      <td></td>\n",
       "      <td>20.302695</td>\n",
       "      <td>26.282242</td>\n",
       "      <td>57.231301</td>\n",
       "      <td>0</td>\n",
       "      <td>0</td>\n",
       "      <td>P</td>\n",
       "      <td></td>\n",
       "      <td>NaN</td>\n",
       "    </tr>\n",
       "    <tr>\n",
       "      <th>3748</th>\n",
       "      <td>ATOM</td>\n",
       "      <td>3748</td>\n",
       "      <td>S</td>\n",
       "      <td></td>\n",
       "      <td>DG</td>\n",
       "      <td>D</td>\n",
       "      <td>18</td>\n",
       "      <td></td>\n",
       "      <td>22.042475</td>\n",
       "      <td>26.441067</td>\n",
       "      <td>59.352817</td>\n",
       "      <td>0</td>\n",
       "      <td>0</td>\n",
       "      <td>H</td>\n",
       "      <td></td>\n",
       "      <td>NaN</td>\n",
       "    </tr>\n",
       "    <tr>\n",
       "      <th>3749</th>\n",
       "      <td>ATOM</td>\n",
       "      <td>3749</td>\n",
       "      <td>A</td>\n",
       "      <td></td>\n",
       "      <td>DA</td>\n",
       "      <td>D</td>\n",
       "      <td>19</td>\n",
       "      <td></td>\n",
       "      <td>28.629237</td>\n",
       "      <td>29.572005</td>\n",
       "      <td>64.840530</td>\n",
       "      <td>0</td>\n",
       "      <td>0</td>\n",
       "      <td>N</td>\n",
       "      <td></td>\n",
       "      <td>NaN</td>\n",
       "    </tr>\n",
       "    <tr>\n",
       "      <th>3750</th>\n",
       "      <td>ATOM</td>\n",
       "      <td>3750</td>\n",
       "      <td>P</td>\n",
       "      <td></td>\n",
       "      <td>DA</td>\n",
       "      <td>D</td>\n",
       "      <td>19</td>\n",
       "      <td></td>\n",
       "      <td>20.919063</td>\n",
       "      <td>27.574945</td>\n",
       "      <td>62.756124</td>\n",
       "      <td>0</td>\n",
       "      <td>0</td>\n",
       "      <td>P</td>\n",
       "      <td></td>\n",
       "      <td>NaN</td>\n",
       "    </tr>\n",
       "    <tr>\n",
       "      <th>3751</th>\n",
       "      <td>ATOM</td>\n",
       "      <td>3751</td>\n",
       "      <td>S</td>\n",
       "      <td></td>\n",
       "      <td>DA</td>\n",
       "      <td>D</td>\n",
       "      <td>19</td>\n",
       "      <td></td>\n",
       "      <td>24.309713</td>\n",
       "      <td>28.022201</td>\n",
       "      <td>63.836948</td>\n",
       "      <td>0</td>\n",
       "      <td>0</td>\n",
       "      <td>H</td>\n",
       "      <td></td>\n",
       "      <td>NaN</td>\n",
       "    </tr>\n",
       "  </tbody>\n",
       "</table>\n",
       "</div>"
      ],
      "text/plain": [
       "     recname  serial name altLoc resname chainID  resSeq iCode          x  \\\n",
       "3747    ATOM    3747    P             DG       D      18        20.302695   \n",
       "3748    ATOM    3748    S             DG       D      18        22.042475   \n",
       "3749    ATOM    3749    A             DA       D      19        28.629237   \n",
       "3750    ATOM    3750    P             DA       D      19        20.919063   \n",
       "3751    ATOM    3751    S             DA       D      19        24.309713   \n",
       "\n",
       "              y          z  occupancy  tempFactor element charge real_resname  \n",
       "3747  26.282242  57.231301          0           0       P                 NaN  \n",
       "3748  26.441067  59.352817          0           0       H                 NaN  \n",
       "3749  29.572005  64.840530          0           0       N                 NaN  \n",
       "3750  27.574945  62.756124          0           0       P                 NaN  \n",
       "3751  28.022201  63.836948          0           0       H                 NaN  "
      ]
     },
     "execution_count": 6,
     "metadata": {},
     "output_type": "execute_result"
    }
   ],
   "source": [
    "#Merge models\n",
    "Coarse=pandas.concat([awsem_atoms,dna_atoms],sort=False)\n",
    "Coarse.index=range(len(Coarse))\n",
    "Coarse.serial=list(Coarse.index)\n",
    "Coarse.tail()"
   ]
  },
  {
   "cell_type": "markdown",
   "metadata": {},
   "source": [
    "### Get the sequence of the protein"
   ]
  },
  {
   "cell_type": "code",
   "execution_count": 7,
   "metadata": {},
   "outputs": [],
   "source": [
    "_AWSEMresidues=['IPR','IGL','NGP']\n",
    "protein_data=Coarse[Coarse.resname.isin(_AWSEMresidues)].copy()\n",
    "resix = (protein_data.chainID + '_' + protein_data.resSeq.astype(str))\n",
    "res_unique = resix.unique()\n",
    "protein_data['resID'] = resix.replace(dict(zip(res_unique, range(len(res_unique)))))\n",
    "protein_sequence=[r.iloc[0]['real_resname'] for i, r in protein_data.groupby('resID')]      \n"
   ]
  },
  {
   "cell_type": "markdown",
   "metadata": {},
   "source": [
    "### Write the merged PDB"
   ]
  },
  {
   "cell_type": "code",
   "execution_count": 8,
   "metadata": {},
   "outputs": [],
   "source": [
    "def writePDB(atoms,pdb_file):\n",
    "    with open(pdb_file, 'w+') as pdb:\n",
    "        for i, atom in atoms.iterrows():\n",
    "            pdb_line = f'{atom.recname:<6}{atom.serial:>5} {atom[\"name\"]:^4}{atom.altLoc:1}'+\\\n",
    "                       f'{atom.resname:<3} {atom.chainID:1}{atom.resSeq:>4}{atom.iCode:1}   '+\\\n",
    "                       f'{atom.x:>8.3f}{atom.y:>8.3f}{atom.z:>8.3f}' +\\\n",
    "                       f'{atom.occupancy:>6.2f}{atom.occupancy:>6.2f}'+' ' * 10 +\\\n",
    "                       f'{atom.element:>2}{atom.charge:>2}'\n",
    "            assert len(pdb_line) == 80, f'An item in the atom table is longer than expected ({len(pdb_line)})\\n{pdb_line}'\n",
    "            pdb.write(pdb_line + '\\n')\n",
    "writePDB(Coarse,'clean.pdb')\n",
    "#if 'C' in r_im:\n",
    "#    r_im['C'].set_coord(0.44365*r_im['CA'].get_coord()+ 0.23520*r_i['CA'].get_coord()+ 0.32115 *r_im['O'].get_coord())\n",
    "#if 'H' in r_i:\n",
    "#    r_i['H'].set_coord( 0.84100*r_im['CA'].get_coord()+ 0.89296*r_i['CA'].get_coord()- 0.73389 *r_im['O'].get_coord())"
   ]
  },
  {
   "cell_type": "markdown",
   "metadata": {},
   "source": [
    "### Create the system"
   ]
  },
  {
   "cell_type": "code",
   "execution_count": 9,
   "metadata": {},
   "outputs": [],
   "source": [
    "import simtk.openmm\n",
    "pdb=simtk.openmm.app.PDBFile('clean.pdb')\n",
    "top=pdb.topology\n",
    "coord=pdb.positions\n",
    "forcefield=simtk.openmm.app.ForceField('awsem.xml','3SPN2.xml')\n",
    "s=forcefield.createSystem(top)\n"
   ]
  },
  {
   "cell_type": "code",
   "execution_count": 10,
   "metadata": {},
   "outputs": [],
   "source": [
    "import numpy as np\n",
    "size=2*200*simtk.openmm.unit.nanometer\n",
    "centered=np.array(coord)-np.array(coord).mean(axis=0)+np.array(size/2)\n",
    "s.setDefaultPeriodicBoxVectors(*np.diag([size]*3))"
   ]
  },
  {
   "cell_type": "markdown",
   "metadata": {},
   "source": [
    "### Add open3SPN2 forcefield"
   ]
  },
  {
   "cell_type": "code",
   "execution_count": 11,
   "metadata": {},
   "outputs": [
    {
     "data": {
      "text/plain": [
       "<module 'ff3SPN2' from '../../../open3SPN2/ff3SPN2.py'>"
      ]
     },
     "execution_count": 11,
     "metadata": {},
     "output_type": "execute_result"
    }
   ],
   "source": [
    "import sys\n",
    "sys.path.insert(0, '../../../open3SPN2')\n",
    "import ff3SPN2\n",
    "import importlib\n",
    "importlib.reload(ff3SPN2)"
   ]
  },
  {
   "cell_type": "code",
   "execution_count": 12,
   "metadata": {},
   "outputs": [
    {
     "name": "stderr",
     "output_type": "stream",
     "text": [
      "/home/cab22/Programs/anaconda3/envs/py36/lib/python3.6/site-packages/pandas/core/indexing.py:362: SettingWithCopyWarning: \n",
      "A value is trying to be set on a copy of a slice from a DataFrame.\n",
      "Try using .loc[row_indexer,col_indexer] = value instead\n",
      "\n",
      "See the caveats in the documentation: http://pandas.pydata.org/pandas-docs/stable/indexing.html#indexing-view-versus-copy\n",
      "  self.obj[key] = _infer_fill_value(value)\n",
      "/home/cab22/Programs/anaconda3/envs/py36/lib/python3.6/site-packages/pandas/core/indexing.py:543: SettingWithCopyWarning: \n",
      "A value is trying to be set on a copy of a slice from a DataFrame.\n",
      "Try using .loc[row_indexer,col_indexer] = value instead\n",
      "\n",
      "See the caveats in the documentation: http://pandas.pydata.org/pandas-docs/stable/indexing.html#indexing-view-versus-copy\n",
      "  self.obj[item] = s\n"
     ]
    }
   ],
   "source": [
    "dna=ff3SPN2.DNA.fromCoarsePDB('clean.pdb')"
   ]
  },
  {
   "cell_type": "code",
   "execution_count": 13,
   "metadata": {},
   "outputs": [
    {
     "name": "stderr",
     "output_type": "stream",
     "text": [
      "/home/cab22/Programs/anaconda3/envs/py36/lib/python3.6/site-packages/pandas/core/indexing.py:362: SettingWithCopyWarning: \n",
      "A value is trying to be set on a copy of a slice from a DataFrame.\n",
      "Try using .loc[row_indexer,col_indexer] = value instead\n",
      "\n",
      "See the caveats in the documentation: http://pandas.pydata.org/pandas-docs/stable/indexing.html#indexing-view-versus-copy\n",
      "  self.obj[key] = _infer_fill_value(value)\n",
      "/home/cab22/Programs/anaconda3/envs/py36/lib/python3.6/site-packages/pandas/core/indexing.py:543: SettingWithCopyWarning: \n",
      "A value is trying to be set on a copy of a slice from a DataFrame.\n",
      "Try using .loc[row_indexer,col_indexer] = value instead\n",
      "\n",
      "See the caveats in the documentation: http://pandas.pydata.org/pandas-docs/stable/indexing.html#indexing-view-versus-copy\n",
      "  self.obj[item] = s\n"
     ]
    },
    {
     "name": "stdout",
     "output_type": "stream",
     "text": [
      "Bond\n",
      "Angle\n",
      "Stacking\n",
      "Dihedral\n",
      "BasePair\n",
      "CrossStacking\n",
      "Exclusion\n",
      "Electrostatics\n",
      "77.8 0.974998211\n",
      "0.94856634121177 nm 3.5975908035210326e-70 mol C**2 F/m\n"
     ]
    }
   ],
   "source": [
    "import sys\n",
    "sys.path.insert(0, '../../../open3SPN2')\n",
    "import ff3SPN2\n",
    "import importlib\n",
    "importlib.reload(ff3SPN2)\n",
    "dna=ff3SPN2.DNA.fromCoarsePDB('clean.pdb')\n",
    "keepCMMotionRemover=True\n",
    "#Clear Forces\n",
    "j=0\n",
    "for i, f in enumerate(s.getForces()):\n",
    "    if keepCMMotionRemover and i == 0 and f.__class__ == simtk.openmm.CMMotionRemover:\n",
    "        # print('Kept ', f.__class__)\n",
    "        j += 1\n",
    "        continue\n",
    "    else:\n",
    "        # print('Removed ', f.__class__)\n",
    "        s.removeForce(j)\n",
    "if keepCMMotionRemover == False:\n",
    "    assert len(s.getForces()) == 0, 'Not all the forces were removed'\n",
    "else:\n",
    "    assert len(s.getForces()) <= 1, 'Not all the forces were removed'\n",
    "\n",
    "\n",
    "#Add forces\n",
    "forces = dict(Bond=ff3SPN2.Bond3SPN2,\n",
    "              Angle=ff3SPN2.Angle3SPN2,\n",
    "              Stacking=ff3SPN2.Stacking3SPN2,\n",
    "              Dihedral=ff3SPN2.Dihedral3SPN2,\n",
    "              BasePair=ff3SPN2.BasePair3SPN2,\n",
    "              CrossStacking=ff3SPN2.CrossStacking3SPN2,\n",
    "              Exclusion=ff3SPN2.Exclusion3SPN2,\n",
    "              Electrostatics=ff3SPN2.Electrostatics3SPN2\n",
    "             )\n",
    "for force_name in forces:\n",
    "    print(force_name)\n",
    "    force = forces[force_name](dna)\n",
    "    if force_name == 'CrossStacking':\n",
    "        force.addForce(s)\n",
    "    else:\n",
    "        s.addForce(force)"
   ]
  },
  {
   "cell_type": "code",
   "execution_count": 14,
   "metadata": {},
   "outputs": [],
   "source": [
    "import simtk.openmm.app\n",
    "import simtk.openmm\n",
    "import simtk.unit as unit\n",
    "import configparser\n",
    "import numpy as np\n",
    "import itertools\n",
    "import scipy.spatial.distance as sdist\n",
    "import os\n",
    "\n",
    "class O(object):\n",
    "    pass\n",
    "self=O()"
   ]
  },
  {
   "cell_type": "code",
   "execution_count": 16,
   "metadata": {},
   "outputs": [
    {
     "name": "stdout",
     "output_type": "stream",
     "text": [
      "-739.2152099609375\n",
      "#\"Step\"\t\"Time (ps)\"\t\"Potential Energy (kJ/mole)\"\t\"Temperature (K)\"\n",
      "1000\t2.0000000000000013\t-654.27490234375\t294.80621900678585\n",
      "2000\t3.999999999999781\t-669.3508911132812\t295.4667890607743\n",
      "3000\t5.999999999999561\t-665.025390625\t295.6120538938855\n",
      "4000\t7.999999999999341\t-679.1336669921875\t296.23911757586296\n"
     ]
    },
    {
     "ename": "KeyboardInterrupt",
     "evalue": "",
     "output_type": "error",
     "traceback": [
      "\u001b[0;31m---------------------------------------------------------------------------\u001b[0m",
      "\u001b[0;31mKeyboardInterrupt\u001b[0m                         Traceback (most recent call last)",
      "\u001b[0;32m<ipython-input-16-b84446ae0146>\u001b[0m in \u001b[0;36m<module>\u001b[0;34m()\u001b[0m\n\u001b[1;32m     20\u001b[0m \u001b[0msimulation\u001b[0m\u001b[0;34m.\u001b[0m\u001b[0mminimizeEnergy\u001b[0m\u001b[0;34m(\u001b[0m\u001b[0;34m)\u001b[0m\u001b[0;34m\u001b[0m\u001b[0m\n\u001b[1;32m     21\u001b[0m \u001b[0msimulation\u001b[0m\u001b[0;34m.\u001b[0m\u001b[0mcontext\u001b[0m\u001b[0;34m.\u001b[0m\u001b[0msetVelocitiesToTemperature\u001b[0m\u001b[0;34m(\u001b[0m\u001b[0mtemperature\u001b[0m\u001b[0;34m)\u001b[0m\u001b[0;34m\u001b[0m\u001b[0m\n\u001b[0;32m---> 22\u001b[0;31m \u001b[0msimulation\u001b[0m\u001b[0;34m.\u001b[0m\u001b[0mstep\u001b[0m\u001b[0;34m(\u001b[0m\u001b[0;36m100000\u001b[0m\u001b[0;34m)\u001b[0m\u001b[0;34m\u001b[0m\u001b[0m\n\u001b[0m",
      "\u001b[0;32m~/Programs/anaconda3/envs/py36/lib/python3.6/site-packages/simtk/openmm/app/simulation.py\u001b[0m in \u001b[0;36mstep\u001b[0;34m(self, steps)\u001b[0m\n\u001b[1;32m    130\u001b[0m     \u001b[0;32mdef\u001b[0m \u001b[0mstep\u001b[0m\u001b[0;34m(\u001b[0m\u001b[0mself\u001b[0m\u001b[0;34m,\u001b[0m \u001b[0msteps\u001b[0m\u001b[0;34m)\u001b[0m\u001b[0;34m:\u001b[0m\u001b[0;34m\u001b[0m\u001b[0m\n\u001b[1;32m    131\u001b[0m         \u001b[0;34m\"\"\"Advance the simulation by integrating a specified number of time steps.\"\"\"\u001b[0m\u001b[0;34m\u001b[0m\u001b[0m\n\u001b[0;32m--> 132\u001b[0;31m         \u001b[0mself\u001b[0m\u001b[0;34m.\u001b[0m\u001b[0m_simulate\u001b[0m\u001b[0;34m(\u001b[0m\u001b[0mendStep\u001b[0m\u001b[0;34m=\u001b[0m\u001b[0mself\u001b[0m\u001b[0;34m.\u001b[0m\u001b[0mcurrentStep\u001b[0m\u001b[0;34m+\u001b[0m\u001b[0msteps\u001b[0m\u001b[0;34m)\u001b[0m\u001b[0;34m\u001b[0m\u001b[0m\n\u001b[0m\u001b[1;32m    133\u001b[0m \u001b[0;34m\u001b[0m\u001b[0m\n\u001b[1;32m    134\u001b[0m     \u001b[0;32mdef\u001b[0m \u001b[0mrunForClockTime\u001b[0m\u001b[0;34m(\u001b[0m\u001b[0mself\u001b[0m\u001b[0;34m,\u001b[0m \u001b[0mtime\u001b[0m\u001b[0;34m,\u001b[0m \u001b[0mcheckpointFile\u001b[0m\u001b[0;34m=\u001b[0m\u001b[0;32mNone\u001b[0m\u001b[0;34m,\u001b[0m \u001b[0mstateFile\u001b[0m\u001b[0;34m=\u001b[0m\u001b[0;32mNone\u001b[0m\u001b[0;34m,\u001b[0m \u001b[0mcheckpointInterval\u001b[0m\u001b[0;34m=\u001b[0m\u001b[0;32mNone\u001b[0m\u001b[0;34m)\u001b[0m\u001b[0;34m:\u001b[0m\u001b[0;34m\u001b[0m\u001b[0m\n",
      "\u001b[0;32m~/Programs/anaconda3/envs/py36/lib/python3.6/site-packages/simtk/openmm/app/simulation.py\u001b[0m in \u001b[0;36m_simulate\u001b[0;34m(self, endStep, endTime)\u001b[0m\n\u001b[1;32m    195\u001b[0m             \u001b[0mstepsToGo\u001b[0m \u001b[0;34m=\u001b[0m \u001b[0mnextSteps\u001b[0m\u001b[0;34m\u001b[0m\u001b[0m\n\u001b[1;32m    196\u001b[0m             \u001b[0;32mwhile\u001b[0m \u001b[0mstepsToGo\u001b[0m \u001b[0;34m>\u001b[0m \u001b[0;36m10\u001b[0m\u001b[0;34m:\u001b[0m\u001b[0;34m\u001b[0m\u001b[0m\n\u001b[0;32m--> 197\u001b[0;31m                 \u001b[0mself\u001b[0m\u001b[0;34m.\u001b[0m\u001b[0mintegrator\u001b[0m\u001b[0;34m.\u001b[0m\u001b[0mstep\u001b[0m\u001b[0;34m(\u001b[0m\u001b[0;36m10\u001b[0m\u001b[0;34m)\u001b[0m \u001b[0;31m# Only take 10 steps at a time, to give Python more chances to respond to a control-c.\u001b[0m\u001b[0;34m\u001b[0m\u001b[0m\n\u001b[0m\u001b[1;32m    198\u001b[0m                 \u001b[0mstepsToGo\u001b[0m \u001b[0;34m-=\u001b[0m \u001b[0;36m10\u001b[0m\u001b[0;34m\u001b[0m\u001b[0m\n\u001b[1;32m    199\u001b[0m                 \u001b[0;32mif\u001b[0m \u001b[0mendTime\u001b[0m \u001b[0;32mis\u001b[0m \u001b[0;32mnot\u001b[0m \u001b[0;32mNone\u001b[0m \u001b[0;32mand\u001b[0m \u001b[0mdatetime\u001b[0m\u001b[0;34m.\u001b[0m\u001b[0mnow\u001b[0m\u001b[0;34m(\u001b[0m\u001b[0;34m)\u001b[0m \u001b[0;34m>=\u001b[0m \u001b[0mendTime\u001b[0m\u001b[0;34m:\u001b[0m\u001b[0;34m\u001b[0m\u001b[0m\n",
      "\u001b[0;32m~/Programs/anaconda3/envs/py36/lib/python3.6/site-packages/simtk/openmm/openmm.py\u001b[0m in \u001b[0;36mstep\u001b[0;34m(self, steps)\u001b[0m\n\u001b[1;32m   4434\u001b[0m             \u001b[0mthe\u001b[0m \u001b[0mnumber\u001b[0m \u001b[0mof\u001b[0m \u001b[0mtime\u001b[0m \u001b[0msteps\u001b[0m \u001b[0mto\u001b[0m \u001b[0mtake\u001b[0m\u001b[0;34m\u001b[0m\u001b[0m\n\u001b[1;32m   4435\u001b[0m         \"\"\"\n\u001b[0;32m-> 4436\u001b[0;31m         \u001b[0;32mreturn\u001b[0m \u001b[0m_openmm\u001b[0m\u001b[0;34m.\u001b[0m\u001b[0mLangevinIntegrator_step\u001b[0m\u001b[0;34m(\u001b[0m\u001b[0mself\u001b[0m\u001b[0;34m,\u001b[0m \u001b[0msteps\u001b[0m\u001b[0;34m)\u001b[0m\u001b[0;34m\u001b[0m\u001b[0m\n\u001b[0m\u001b[1;32m   4437\u001b[0m \u001b[0;34m\u001b[0m\u001b[0m\n\u001b[1;32m   4438\u001b[0m \u001b[0;34m\u001b[0m\u001b[0m\n",
      "\u001b[0;31mKeyboardInterrupt\u001b[0m: "
     ]
    }
   ],
   "source": [
    "temperature=300 * simtk.openmm.unit.kelvin\n",
    "platform_name='OpenCL'\n",
    "\n",
    "integrator = simtk.openmm.LangevinIntegrator(temperature, 1E-4 / unit.picosecond, 2 * unit.femtoseconds)\n",
    "platform = simtk.openmm.Platform.getPlatformByName(platform_name)\n",
    "simulation = simtk.openmm.app.Simulation(top,s, integrator,platform)\n",
    "simulation.context.setPositions(centered)\n",
    "energy_unit=unit.kilojoule_per_mole\n",
    "state = simulation.context.getState(getEnergy=True)\n",
    "energy = state.getPotentialEnergy().value_in_unit(energy_unit)\n",
    "print(energy)\n",
    "simulation.reporters.append(simtk.openmm.app.PDBReporter(f'output.pdb', 1000),)\n",
    "simulation.reporters.append(simtk.openmm.app.DCDReporter(f'output.dcd', 1000),)\n",
    "#sim_out=open('sim_out.txt','w+')\n",
    "simulation.reporters.append(simtk.openmm.app.StateDataReporter(sys.stdout, 1000, step=True,time=True,potentialEnergy=True, temperature=True,separator='\\t',))\n",
    "simulation.reporters.append(simtk.openmm.app.StateDataReporter('sim.log', 1000, step=True,time=True,totalEnergy=True,\n",
    "                                              kineticEnergy=True,potentialEnergy=True, temperature=True))\n",
    "\n",
    "simulation.minimizeEnergy()\n",
    "simulation.context.setVelocitiesToTemperature(temperature)\n",
    "simulation.step(100000)"
   ]
  },
  {
   "cell_type": "markdown",
   "metadata": {},
   "source": [
    "### Add AWSEM forcefield"
   ]
  },
  {
   "cell_type": "code",
   "execution_count": 17,
   "metadata": {},
   "outputs": [],
   "source": [
    "sys.path.insert(0, '../../')"
   ]
  },
  {
   "cell_type": "code",
   "execution_count": 18,
   "metadata": {},
   "outputs": [],
   "source": [
    "import functionTerms.basicTerms as bt"
   ]
  },
  {
   "cell_type": "code",
   "execution_count": 19,
   "metadata": {},
   "outputs": [],
   "source": [
    "import ffAWSEM\n",
    "importlib.reload(ffAWSEM)\n",
    "protein=ffAWSEM.Protein.fromCoarsePDB('clean.pdb',sequence=protein_sequence)"
   ]
  },
  {
   "cell_type": "markdown",
   "metadata": {},
   "source": [
    "###Extra steps taken\n",
    "- Create ssweight\n",
    "- Copy parameters"
   ]
  },
  {
   "cell_type": "code",
   "execution_count": 20,
   "metadata": {},
   "outputs": [
    {
     "name": "stdout",
     "output_type": "stream",
     "text": [
      "Connectivity\n",
      "Chain\n",
      "Chi\n",
      "Excl\n",
      "rama\n",
      "rama_pro\n",
      "rama_ss\n"
     ]
    }
   ],
   "source": [
    "import functionTerms\n",
    "'''\n",
    "forces = [\n",
    "#    q_value(oa, \"crystal_structure-cleaned.pdb\"),\n",
    "    con_term(oa),\n",
    "    chain_term(oa),\n",
    "    chi_term(oa),\n",
    "    excl_term(oa),\n",
    "    rama_term(oa),\n",
    "    rama_proline_term(oa),\n",
    "    rama_ssweight_term(oa),\n",
    "    contact_term(oa, z_dependent=False),\n",
    "    beta_term_1(oa),\n",
    "    beta_term_2(oa),\n",
    "    beta_term_3(oa),\n",
    "    pap_term_1(oa),\n",
    "    pap_term_2(oa),\n",
    "    # pap_term_old(oa),\n",
    "    # fragment_memory_term(oa, frag_location_pre=\"./\"),\n",
    "    # er_term(oa),\n",
    "    # tbm_q_term(oa, k_tbm_q=2000),\n",
    "    # membrane_term(oa),\n",
    "] '''\n",
    "if False:\n",
    "    #Clear Forces\n",
    "    j=0\n",
    "    for i, f in enumerate(s.getForces()):\n",
    "        if keepCMMotionRemover and i == 0 and f.__class__ == simtk.openmm.CMMotionRemover:\n",
    "            # print('Kept ', f.__class__)\n",
    "            j += 1\n",
    "            continue\n",
    "        else:\n",
    "            # print('Removed ', f.__class__)\n",
    "            s.removeForce(j)\n",
    "    if keepCMMotionRemover == False:\n",
    "        assert len(s.getForces()) == 0, 'Not all the forces were removed'\n",
    "    else:\n",
    "        assert len(s.getForces()) <= 1, 'Not all the forces were removed'\n",
    "\n",
    "#Add forces\n",
    "forces = dict(Connectivity=functionTerms.basicTerms.con_term,\n",
    "              Chain=functionTerms.basicTerms.chain_term,\n",
    "              Chi=functionTerms.basicTerms.chi_term,\n",
    "              Excl=functionTerms.basicTerms.excl_term,\n",
    "              rama=functionTerms.basicTerms.rama_term,\n",
    "              rama_pro=functionTerms.basicTerms.rama_proline_term,\n",
    "              rama_ss=functionTerms.basicTerms.rama_ssweight_term,\n",
    "#              contact=functionTerms.contactTerms.contact_term,\n",
    "#              beta1=  functionTerms.hydrogenBondTerms.beta_term_1,\n",
    "#              beta2=  functionTerms.hydrogenBondTerms.beta_term_2,\n",
    "#              beta3=  functionTerms.hydrogenBondTerms.beta_term_3,\n",
    "#              pap1=  functionTerms.hydrogenBondTerms.pap_term_1,\n",
    "#              pap2=  functionTerms.hydrogenBondTerms.pap_term_2,\n",
    "             )\n",
    "protein.setup_virtual_sites(s)\n",
    "for force_name in forces:\n",
    "    print(force_name)\n",
    "    force = forces[force_name](protein)\n",
    "    s.addForce(force)\n"
   ]
  },
  {
   "cell_type": "code",
   "execution_count": 22,
   "metadata": {},
   "outputs": [
    {
     "name": "stdout",
     "output_type": "stream",
     "text": [
      "495700.125\n",
      "#\"Step\"\t\"Time (ps)\"\t\"Potential Energy (kJ/mole)\"\t\"Temperature (K)\"\n",
      "1000\t2.0000000000000013\t-7832.6123046875\t169.09068343924494\n"
     ]
    },
    {
     "ename": "KeyboardInterrupt",
     "evalue": "",
     "output_type": "error",
     "traceback": [
      "\u001b[0;31m---------------------------------------------------------------------------\u001b[0m",
      "\u001b[0;31mKeyboardInterrupt\u001b[0m                         Traceback (most recent call last)",
      "\u001b[0;32m<ipython-input-22-826242e707f4>\u001b[0m in \u001b[0;36m<module>\u001b[0;34m()\u001b[0m\n\u001b[1;32m     20\u001b[0m \u001b[0msimulation\u001b[0m\u001b[0;34m.\u001b[0m\u001b[0mminimizeEnergy\u001b[0m\u001b[0;34m(\u001b[0m\u001b[0;34m)\u001b[0m\u001b[0;34m\u001b[0m\u001b[0m\n\u001b[1;32m     21\u001b[0m \u001b[0msimulation\u001b[0m\u001b[0;34m.\u001b[0m\u001b[0mcontext\u001b[0m\u001b[0;34m.\u001b[0m\u001b[0msetVelocitiesToTemperature\u001b[0m\u001b[0;34m(\u001b[0m\u001b[0mtemperature\u001b[0m\u001b[0;34m)\u001b[0m\u001b[0;34m\u001b[0m\u001b[0m\n\u001b[0;32m---> 22\u001b[0;31m \u001b[0msimulation\u001b[0m\u001b[0;34m.\u001b[0m\u001b[0mstep\u001b[0m\u001b[0;34m(\u001b[0m\u001b[0;36m100000\u001b[0m\u001b[0;34m)\u001b[0m\u001b[0;34m\u001b[0m\u001b[0m\n\u001b[0m",
      "\u001b[0;32m~/Programs/anaconda3/envs/py36/lib/python3.6/site-packages/simtk/openmm/app/simulation.py\u001b[0m in \u001b[0;36mstep\u001b[0;34m(self, steps)\u001b[0m\n\u001b[1;32m    130\u001b[0m     \u001b[0;32mdef\u001b[0m \u001b[0mstep\u001b[0m\u001b[0;34m(\u001b[0m\u001b[0mself\u001b[0m\u001b[0;34m,\u001b[0m \u001b[0msteps\u001b[0m\u001b[0;34m)\u001b[0m\u001b[0;34m:\u001b[0m\u001b[0;34m\u001b[0m\u001b[0m\n\u001b[1;32m    131\u001b[0m         \u001b[0;34m\"\"\"Advance the simulation by integrating a specified number of time steps.\"\"\"\u001b[0m\u001b[0;34m\u001b[0m\u001b[0m\n\u001b[0;32m--> 132\u001b[0;31m         \u001b[0mself\u001b[0m\u001b[0;34m.\u001b[0m\u001b[0m_simulate\u001b[0m\u001b[0;34m(\u001b[0m\u001b[0mendStep\u001b[0m\u001b[0;34m=\u001b[0m\u001b[0mself\u001b[0m\u001b[0;34m.\u001b[0m\u001b[0mcurrentStep\u001b[0m\u001b[0;34m+\u001b[0m\u001b[0msteps\u001b[0m\u001b[0;34m)\u001b[0m\u001b[0;34m\u001b[0m\u001b[0m\n\u001b[0m\u001b[1;32m    133\u001b[0m \u001b[0;34m\u001b[0m\u001b[0m\n\u001b[1;32m    134\u001b[0m     \u001b[0;32mdef\u001b[0m \u001b[0mrunForClockTime\u001b[0m\u001b[0;34m(\u001b[0m\u001b[0mself\u001b[0m\u001b[0;34m,\u001b[0m \u001b[0mtime\u001b[0m\u001b[0;34m,\u001b[0m \u001b[0mcheckpointFile\u001b[0m\u001b[0;34m=\u001b[0m\u001b[0;32mNone\u001b[0m\u001b[0;34m,\u001b[0m \u001b[0mstateFile\u001b[0m\u001b[0;34m=\u001b[0m\u001b[0;32mNone\u001b[0m\u001b[0;34m,\u001b[0m \u001b[0mcheckpointInterval\u001b[0m\u001b[0;34m=\u001b[0m\u001b[0;32mNone\u001b[0m\u001b[0;34m)\u001b[0m\u001b[0;34m:\u001b[0m\u001b[0;34m\u001b[0m\u001b[0m\n",
      "\u001b[0;32m~/Programs/anaconda3/envs/py36/lib/python3.6/site-packages/simtk/openmm/app/simulation.py\u001b[0m in \u001b[0;36m_simulate\u001b[0;34m(self, endStep, endTime)\u001b[0m\n\u001b[1;32m    195\u001b[0m             \u001b[0mstepsToGo\u001b[0m \u001b[0;34m=\u001b[0m \u001b[0mnextSteps\u001b[0m\u001b[0;34m\u001b[0m\u001b[0m\n\u001b[1;32m    196\u001b[0m             \u001b[0;32mwhile\u001b[0m \u001b[0mstepsToGo\u001b[0m \u001b[0;34m>\u001b[0m \u001b[0;36m10\u001b[0m\u001b[0;34m:\u001b[0m\u001b[0;34m\u001b[0m\u001b[0m\n\u001b[0;32m--> 197\u001b[0;31m                 \u001b[0mself\u001b[0m\u001b[0;34m.\u001b[0m\u001b[0mintegrator\u001b[0m\u001b[0;34m.\u001b[0m\u001b[0mstep\u001b[0m\u001b[0;34m(\u001b[0m\u001b[0;36m10\u001b[0m\u001b[0;34m)\u001b[0m \u001b[0;31m# Only take 10 steps at a time, to give Python more chances to respond to a control-c.\u001b[0m\u001b[0;34m\u001b[0m\u001b[0m\n\u001b[0m\u001b[1;32m    198\u001b[0m                 \u001b[0mstepsToGo\u001b[0m \u001b[0;34m-=\u001b[0m \u001b[0;36m10\u001b[0m\u001b[0;34m\u001b[0m\u001b[0m\n\u001b[1;32m    199\u001b[0m                 \u001b[0;32mif\u001b[0m \u001b[0mendTime\u001b[0m \u001b[0;32mis\u001b[0m \u001b[0;32mnot\u001b[0m \u001b[0;32mNone\u001b[0m \u001b[0;32mand\u001b[0m \u001b[0mdatetime\u001b[0m\u001b[0;34m.\u001b[0m\u001b[0mnow\u001b[0m\u001b[0;34m(\u001b[0m\u001b[0;34m)\u001b[0m \u001b[0;34m>=\u001b[0m \u001b[0mendTime\u001b[0m\u001b[0;34m:\u001b[0m\u001b[0;34m\u001b[0m\u001b[0m\n",
      "\u001b[0;32m~/Programs/anaconda3/envs/py36/lib/python3.6/site-packages/simtk/openmm/openmm.py\u001b[0m in \u001b[0;36mstep\u001b[0;34m(self, steps)\u001b[0m\n\u001b[1;32m   4434\u001b[0m             \u001b[0mthe\u001b[0m \u001b[0mnumber\u001b[0m \u001b[0mof\u001b[0m \u001b[0mtime\u001b[0m \u001b[0msteps\u001b[0m \u001b[0mto\u001b[0m \u001b[0mtake\u001b[0m\u001b[0;34m\u001b[0m\u001b[0m\n\u001b[1;32m   4435\u001b[0m         \"\"\"\n\u001b[0;32m-> 4436\u001b[0;31m         \u001b[0;32mreturn\u001b[0m \u001b[0m_openmm\u001b[0m\u001b[0;34m.\u001b[0m\u001b[0mLangevinIntegrator_step\u001b[0m\u001b[0;34m(\u001b[0m\u001b[0mself\u001b[0m\u001b[0;34m,\u001b[0m \u001b[0msteps\u001b[0m\u001b[0;34m)\u001b[0m\u001b[0;34m\u001b[0m\u001b[0m\n\u001b[0m\u001b[1;32m   4437\u001b[0m \u001b[0;34m\u001b[0m\u001b[0m\n\u001b[1;32m   4438\u001b[0m \u001b[0;34m\u001b[0m\u001b[0m\n",
      "\u001b[0;31mKeyboardInterrupt\u001b[0m: "
     ]
    }
   ],
   "source": [
    "temperature=300 * simtk.openmm.unit.kelvin\n",
    "platform_name='OpenCL'\n",
    "\n",
    "integrator = simtk.openmm.LangevinIntegrator(temperature, 1E-4 / simtk.openmm.unit.picosecond, 2 * simtk.openmm.unit.femtoseconds)\n",
    "platform = simtk.openmm.Platform.getPlatformByName(platform_name)\n",
    "simulation = simtk.openmm.app.Simulation(top,s, integrator,\n",
    "                                              platform)\n",
    "simulation.context.setPositions(centered)\n",
    "energy_unit=simtk.openmm.unit.kilojoule_per_mole\n",
    "state = simulation.context.getState(getEnergy=True)\n",
    "energy = state.getPotentialEnergy().value_in_unit(energy_unit)\n",
    "print(energy)\n",
    "simulation.reporters.append(simtk.openmm.app.PDBReporter(f'output.pdb', 1000),)\n",
    "simulation.reporters.append(simtk.openmm.app.DCDReporter(f'output.dcd', 1000),)\n",
    "#sim_out=open('sim_out.txt','w+')\n",
    "simulation.reporters.append(simtk.openmm.app.StateDataReporter(sys.stdout, 1000, step=True,time=True,potentialEnergy=True, temperature=True,separator='\\t',))\n",
    "simulation.reporters.append(simtk.openmm.app.StateDataReporter('sim.log', 1000, step=True,time=True,totalEnergy=True,\n",
    "                                              kineticEnergy=True,potentialEnergy=True, temperature=True))\n",
    "\n",
    "simulation.minimizeEnergy()\n",
    "simulation.context.setVelocitiesToTemperature(temperature)\n",
    "simulation.step(100000)"
   ]
  },
  {
   "cell_type": "code",
   "execution_count": null,
   "metadata": {},
   "outputs": [],
   "source": []
  }
 ],
 "metadata": {
  "kernelspec": {
   "display_name": "Python 3",
   "language": "python",
   "name": "python3"
  },
  "language_info": {
   "codemirror_mode": {
    "name": "ipython",
    "version": 3
   },
   "file_extension": ".py",
   "mimetype": "text/x-python",
   "name": "python",
   "nbconvert_exporter": "python",
   "pygments_lexer": "ipython3",
   "version": "3.6.6"
  },
  "toc": {
   "base_numbering": 1,
   "nav_menu": {},
   "number_sections": true,
   "sideBar": true,
   "skip_h1_title": true,
   "title_cell": "Table of Contents",
   "title_sidebar": "Contents",
   "toc_cell": true,
   "toc_position": {
    "height": "calc(100% - 180px)",
    "left": "10px",
    "top": "150px",
    "width": "185.594px"
   },
   "toc_section_display": true,
   "toc_window_display": true
  }
 },
 "nbformat": 4,
 "nbformat_minor": 2
}
